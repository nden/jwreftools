{
 "cells": [
  {
   "cell_type": "markdown",
   "metadata": {},
   "source": [
    "# How To Create Reference Files in ASDF Format"
   ]
  },
  {
   "cell_type": "markdown",
   "metadata": {},
   "source": [
    "### Nadia Dencheva, SSB\n",
    "#### Mar 1st, 2016"
   ]
  },
  {
   "cell_type": "markdown",
   "metadata": {},
   "source": [
    "This tutorial explains how to create reference files in ASDF format for the JWST pipeline.\n",
    "It will focus on WCS reference files, however, ASDF can be used for other reference data as well, especially those involving models, as they are not easily representable in FITS.\n",
    "\n",
    "### Outline\n",
    "\n",
    "- Quick Introduction\n",
    "- Modeling Capabilities\n",
    "  - Single Models\n",
    "  - Combined Models\n",
    "  - Inverse of a model\n",
    "- WCS Reference Files \n"
   ]
  },
  {
   "cell_type": "markdown",
   "metadata": {},
   "source": [
    "### What is ASDF?\n",
    "\n",
    "ASDF is a human-readable, hierarchical metadata structure, made up of basic dynamic data types such as strings, numbers, lists and mappings. Data is saved as binary arrays. It is primarily intended as an interchange format for delivering products from instruments to scientists or between scientists. It’s based on YAML and JSON schema and as such provides automatic structure and metadata validation.\n",
    "\n",
    "Advantages of using ASDF for WCS reference files:\n",
    "\n",
    "- Provides uniform representation of transforms in the JWST pipeline.\n",
    "- Provides automatic validation."
   ]
  },
  {
   "cell_type": "markdown",
   "metadata": {},
   "source": [
    "### Quick Introduction\n",
    "\n",
    "ASDF provides an easy way to save transforms to a file. The simplest way to do this is to create the transform using astropy.modeling and then use the asdf package to save it to a file."
   ]
  },
  {
   "cell_type": "code",
   "execution_count": 90,
   "metadata": {
    "collapsed": false
   },
   "outputs": [],
   "source": [
    "import numpy as np\n",
    "from astropy.modeling import models\n",
    "from asdf import AsdfFile"
   ]
  },
  {
   "cell_type": "markdown",
   "metadata": {},
   "source": [
    "Create a 1D Polynomial model."
   ]
  },
  {
   "cell_type": "code",
   "execution_count": 91,
   "metadata": {
    "collapsed": false
   },
   "outputs": [
    {
     "name": "stdout",
     "output_type": "stream",
     "text": [
      "Model: Polynomial1D\n",
      "Inputs: (u'x',)\n",
      "Outputs: (u'y',)\n",
      "Model set size: 1\n",
      "Degree: 3\n",
      "Parameters:\n",
      "     c0  c1  c2  c3\n",
      "    --- --- --- ---\n",
      "    0.1 0.2 0.3 0.4\n"
     ]
    }
   ],
   "source": [
    "poly1 = models.Polynomial1D(degree=3, c0=.1, c1=.2, c2=.3, c3=.4)\n",
    "print poly1"
   ]
  },
  {
   "cell_type": "code",
   "execution_count": 93,
   "metadata": {
    "collapsed": false
   },
   "outputs": [
    {
     "name": "stdout",
     "output_type": "stream",
     "text": [
      "[  0.1   1.    4.9  14.2  31.3]\n"
     ]
    }
   ],
   "source": [
    "x = np.arange(5)\n",
    "z = poly1(x)\n",
    "print(z)"
   ]
  },
  {
   "cell_type": "markdown",
   "metadata": {},
   "source": [
    "Create an AsdfFile object and add the model to its tree. An Asdf file has a dictionary, called `tree`."
   ]
  },
  {
   "cell_type": "code",
   "execution_count": 96,
   "metadata": {
    "collapsed": false
   },
   "outputs": [
    {
     "name": "stdout",
     "output_type": "stream",
     "text": [
      "{'model': <Polynomial1D(3, c0=0.1, c1=0.2, c2=0.3, c3=0.4)>}\n"
     ]
    }
   ],
   "source": [
    "f = AsdfFile()\n",
    "f.tree['model'] = poly1\n",
    "print(f.tree)\n"
   ]
  },
  {
   "cell_type": "markdown",
   "metadata": {},
   "source": [
    "Saving it to a file validates it."
   ]
  },
  {
   "cell_type": "code",
   "execution_count": 99,
   "metadata": {
    "collapsed": false
   },
   "outputs": [
    {
     "name": "stdout",
     "output_type": "stream",
     "text": [
      "#ASDF 1.0.0\n",
      "#ASDF_STANDARD 1.0.0\n",
      "%YAML 1.1\n",
      "%TAG ! tag:stsci.edu:asdf/\n",
      "--- !core/asdf-1.0.0\n",
      "asdf_library: !core/software-1.0.0 {author: Space Telescope Science Institute, homepage: 'http://github.com/spacetelescope/pyasdf',\n",
      "  name: asdf, version: 1.1.0.dev715}\n",
      "model: !transform/polynomial-1.0.0\n",
      "  coefficients: !core/ndarray-1.0.0\n",
      "    data: [0.1, 0.2, 0.3, 0.4]\n",
      "    datatype: float64\n",
      "    shape: [4]\n",
      "...\n"
     ]
    }
   ],
   "source": [
    "f.write_to('poly.asdf')\n",
    "f.write_to('poly.asdf', all_array_storage='inline')\n",
    "f.write_to('poly.asdf', auto_inline=10)\n",
    "!less poly.asdf"
   ]
  },
  {
   "cell_type": "markdown",
   "metadata": {},
   "source": [
    "To create a model from an asdf file, just open the file and acess the model."
   ]
  },
  {
   "cell_type": "code",
   "execution_count": 102,
   "metadata": {
    "collapsed": false
   },
   "outputs": [
    {
     "name": "stdout",
     "output_type": "stream",
     "text": [
      "[u'model', u'asdf_library']\n"
     ]
    }
   ],
   "source": [
    "fa = AsdfFile.open('poly.asdf')\n",
    "model = fa.tree['model']\n",
    "tree = fa.tree\n",
    "print(tree.keys())\n",
    "#print(model)"
   ]
  },
  {
   "cell_type": "code",
   "execution_count": 103,
   "metadata": {
    "collapsed": false
   },
   "outputs": [
    {
     "data": {
      "text/plain": [
       "array([  0.1,   1. ,   4.9,  14.2,  31.3])"
      ]
     },
     "execution_count": 103,
     "metadata": {},
     "output_type": "execute_result"
    }
   ],
   "source": [
    "model(x)"
   ]
  },
  {
   "cell_type": "markdown",
   "metadata": {},
   "source": [
    "### Modeling capabilities"
   ]
  },
  {
   "cell_type": "code",
   "execution_count": 104,
   "metadata": {
    "collapsed": false
   },
   "outputs": [],
   "source": [
    "from astropy.modeling import models\n",
    "#models."
   ]
  },
  {
   "cell_type": "markdown",
   "metadata": {},
   "source": [
    "Examples of models often used with WCS transformations."
   ]
  },
  {
   "cell_type": "code",
   "execution_count": 105,
   "metadata": {
    "collapsed": true
   },
   "outputs": [],
   "source": [
    "offset = models.Shift(-2048)\n",
    "scale = models.Scale(8.301)"
   ]
  },
  {
   "cell_type": "markdown",
   "metadata": {},
   "source": [
    "There are several rotation models.\n",
    "\n",
    "Do not set the translation in an affine transform to define a rotation using a rotation matrix."
   ]
  },
  {
   "cell_type": "code",
   "execution_count": 106,
   "metadata": {
    "collapsed": false
   },
   "outputs": [],
   "source": [
    "angle = np.deg2rad(12.1)\n",
    "mat = np.array([[np.cos(angle), -np.sin(angle)], [np.sin(angle), np.cos(angle)]])\n",
    "affine = models.AffineTransformation2D(matrix=mat, translation=[1.1, 2.2])"
   ]
  },
  {
   "cell_type": "markdown",
   "metadata": {},
   "source": [
    "This defines a rotation by an angle. The angle is in degrees and the direction is counter-clockwise."
   ]
  },
  {
   "cell_type": "code",
   "execution_count": 107,
   "metadata": {
    "collapsed": false
   },
   "outputs": [
    {
     "name": "stdout",
     "output_type": "stream",
     "text": [
      "(0.1896390569863976, 2.2280119003419414)\n"
     ]
    }
   ],
   "source": [
    "rotation = models.Rotation2D(angle=21.7)\n",
    "print(rotation(1,2))"
   ]
  },
  {
   "cell_type": "markdown",
   "metadata": {},
   "source": [
    "Several polynomial models are defined as well, including Chebyshev and Legendre polynomials."
   ]
  },
  {
   "cell_type": "code",
   "execution_count": 109,
   "metadata": {
    "collapsed": false
   },
   "outputs": [
    {
     "name": "stdout",
     "output_type": "stream",
     "text": [
      "0.8\n"
     ]
    }
   ],
   "source": [
    "poly2 = models.Polynomial2D(degree=1, c0_0=.1, c0_1=.2, c1_0=.3)\n",
    "print(poly2(1, 2))"
   ]
  },
  {
   "cell_type": "markdown",
   "metadata": {},
   "source": [
    "#### Combining Models\n"
   ]
  },
  {
   "cell_type": "markdown",
   "metadata": {},
   "source": [
    "- **Composition**: evaluating models in series. \n",
    "\n",
    "The output of one model is passed as input to the next one. The composition operator is `|`.\n"
   ]
  },
  {
   "cell_type": "code",
   "execution_count": 111,
   "metadata": {
    "collapsed": false
   },
   "outputs": [
    {
     "data": {
      "text/plain": [
       "True"
      ]
     },
     "execution_count": 111,
     "metadata": {},
     "output_type": "execute_result"
    }
   ],
   "source": [
    "model = offset | scale\n",
    "model(1) == scale(offset(1))\n"
   ]
  },
  {
   "cell_type": "markdown",
   "metadata": {},
   "source": [
    "The number of outputs of a model must equal the number of inputs of the next model."
   ]
  },
  {
   "cell_type": "code",
   "execution_count": 112,
   "metadata": {
    "collapsed": false
   },
   "outputs": [
    {
     "ename": "ModelDefinitionError",
     "evalue": "Unsupported operands for |: None (n_inputs=1, n_outputs=1) and None (n_inputs=2, n_outputs=2); n_outputs for the left-hand model must match n_inputs for the right-hand model.",
     "output_type": "error",
     "traceback": [
      "\u001b[1;31m---------------------------------------------------------------------------\u001b[0m",
      "\u001b[1;31mModelDefinitionError\u001b[0m                      Traceback (most recent call last)",
      "\u001b[1;32m<ipython-input-112-fda0e9d23fdd>\u001b[0m in \u001b[0;36m<module>\u001b[1;34m()\u001b[0m\n\u001b[0;32m      1\u001b[0m \u001b[1;31m# This raises an erros\u001b[0m\u001b[1;33m\u001b[0m\u001b[1;33m\u001b[0m\u001b[0m\n\u001b[1;32m----> 2\u001b[1;33m \u001b[0mmodel\u001b[0m \u001b[1;33m=\u001b[0m \u001b[0moffset\u001b[0m \u001b[1;33m|\u001b[0m \u001b[0mrotation\u001b[0m\u001b[1;33m\u001b[0m\u001b[0m\n\u001b[0m",
      "\u001b[1;32mC:\\Anaconda2\\lib\\site-packages\\astropy\\modeling\\core.pyc\u001b[0m in \u001b[0;36m<lambda>\u001b[1;34m(left, right)\u001b[0m\n\u001b[0;32m     75\u001b[0m     \u001b[1;31m# Perform an arithmetic operation on two models.\u001b[0m\u001b[1;33m\u001b[0m\u001b[1;33m\u001b[0m\u001b[0m\n\u001b[0;32m     76\u001b[0m     return lambda left, right: _CompoundModelMeta._from_operator(oper,\n\u001b[1;32m---> 77\u001b[1;33m             left, right, **kwargs)\n\u001b[0m\u001b[0;32m     78\u001b[0m \u001b[1;33m\u001b[0m\u001b[0m\n\u001b[0;32m     79\u001b[0m \u001b[1;33m\u001b[0m\u001b[0m\n",
      "\u001b[1;32mC:\\Anaconda2\\lib\\site-packages\\astropy\\modeling\\core.pyc\u001b[0m in \u001b[0;36m_from_operator\u001b[1;34m(mcls, operator, left, right, additional_members)\u001b[0m\n\u001b[0;32m   2057\u001b[0m                     \"for the right-hand model.\".format(\n\u001b[0;32m   2058\u001b[0m                         \u001b[0mleft\u001b[0m\u001b[1;33m.\u001b[0m\u001b[0mname\u001b[0m\u001b[1;33m,\u001b[0m \u001b[0mleft\u001b[0m\u001b[1;33m.\u001b[0m\u001b[0mn_inputs\u001b[0m\u001b[1;33m,\u001b[0m \u001b[0mleft\u001b[0m\u001b[1;33m.\u001b[0m\u001b[0mn_outputs\u001b[0m\u001b[1;33m,\u001b[0m \u001b[0mright\u001b[0m\u001b[1;33m.\u001b[0m\u001b[0mname\u001b[0m\u001b[1;33m,\u001b[0m\u001b[1;33m\u001b[0m\u001b[0m\n\u001b[1;32m-> 2059\u001b[1;33m                         right.n_inputs, right.n_outputs))\n\u001b[0m\u001b[0;32m   2060\u001b[0m         \u001b[1;32melif\u001b[0m \u001b[0moperator\u001b[0m \u001b[1;33m==\u001b[0m \u001b[1;34m'&'\u001b[0m\u001b[1;33m:\u001b[0m\u001b[1;33m\u001b[0m\u001b[0m\n\u001b[0;32m   2061\u001b[0m             \u001b[0minputs\u001b[0m \u001b[1;33m=\u001b[0m \u001b[0mcombine_labels\u001b[0m\u001b[1;33m(\u001b[0m\u001b[0mleft\u001b[0m\u001b[1;33m.\u001b[0m\u001b[0minputs\u001b[0m\u001b[1;33m,\u001b[0m \u001b[0mright\u001b[0m\u001b[1;33m.\u001b[0m\u001b[0minputs\u001b[0m\u001b[1;33m)\u001b[0m\u001b[1;33m\u001b[0m\u001b[0m\n",
      "\u001b[1;31mModelDefinitionError\u001b[0m: Unsupported operands for |: None (n_inputs=1, n_outputs=1) and None (n_inputs=2, n_outputs=2); n_outputs for the left-hand model must match n_inputs for the right-hand model."
     ]
    }
   ],
   "source": [
    "# This raises an erros\n",
    "model = offset | rotation\n"
   ]
  },
  {
   "cell_type": "markdown",
   "metadata": {},
   "source": [
    "- Model **concatenation**  - evaluating models on independent variables and concatenating the outputs. The inputs are distributed to all models. The number of inputs must equal the total number of inputs of all models."
   ]
  },
  {
   "cell_type": "code",
   "execution_count": 113,
   "metadata": {
    "collapsed": true
   },
   "outputs": [],
   "source": [
    "poly_x = models.Polynomial2D(degree=1, c0_0=.1, c0_1=.2, c1_0=.3, name='poly_x')\n",
    "poly_y = models.Polynomial2D(degree=1, c0_0=.4, c0_1=.5, c1_0=.6, name='poly_y')\n",
    "model = poly_x & poly_y"
   ]
  },
  {
   "cell_type": "code",
   "execution_count": 114,
   "metadata": {
    "collapsed": false
   },
   "outputs": [
    {
     "ename": "TypeError",
     "evalue": "__call__() takes at least 5 arguments (3 given)",
     "output_type": "error",
     "traceback": [
      "\u001b[1;31m---------------------------------------------------------------------------\u001b[0m",
      "\u001b[1;31mTypeError\u001b[0m                                 Traceback (most recent call last)",
      "\u001b[1;32m<ipython-input-114-029b3ca45be7>\u001b[0m in \u001b[0;36m<module>\u001b[1;34m()\u001b[0m\n\u001b[1;32m----> 1\u001b[1;33m \u001b[0mmodel\u001b[0m\u001b[1;33m(\u001b[0m\u001b[1;36m1\u001b[0m\u001b[1;33m,\u001b[0m \u001b[1;36m2\u001b[0m\u001b[1;33m)\u001b[0m\u001b[1;33m\u001b[0m\u001b[0m\n\u001b[0m",
      "\u001b[1;31mTypeError\u001b[0m: __call__() takes at least 5 arguments (3 given)"
     ]
    }
   ],
   "source": [
    "model(1, 2)"
   ]
  },
  {
   "cell_type": "code",
   "execution_count": 115,
   "metadata": {
    "collapsed": false
   },
   "outputs": [
    {
     "data": {
      "text/plain": [
       "4"
      ]
     },
     "execution_count": 115,
     "metadata": {},
     "output_type": "execute_result"
    }
   ],
   "source": [
    "model.n_inputs"
   ]
  },
  {
   "cell_type": "markdown",
   "metadata": {},
   "source": [
    "Two models in astropy.modeling are designed to manage the inputs.\n",
    "\n",
    "`Mapping` is used to change the order of inputs or drop inputs.\n",
    "\n",
    "`Identity` is used to pass inputs unchanged. It is typically used with the join operator `&`."
   ]
  },
  {
   "cell_type": "code",
   "execution_count": 116,
   "metadata": {
    "collapsed": false
   },
   "outputs": [
    {
     "data": {
      "text/plain": [
       "(0.8, 2.0)"
      ]
     },
     "execution_count": 116,
     "metadata": {},
     "output_type": "execute_result"
    }
   ],
   "source": [
    "map_inputs = models.Mapping((0, 1, 0, 1), name='map_poly_inputs')\n",
    "distortion = map_inputs | model\n",
    "distortion(1, 2)"
   ]
  },
  {
   "cell_type": "code",
   "execution_count": 117,
   "metadata": {
    "collapsed": false
   },
   "outputs": [
    {
     "name": "stdout",
     "output_type": "stream",
     "text": [
      "#ASDF 1.0.0\n",
      "#ASDF_STANDARD 1.0.0\n",
      "%YAML 1.1\n",
      "%TAG ! tag:stsci.edu:asdf/\n",
      "--- !core/asdf-1.0.0\n",
      "asdf_library: !core/software-1.0.0 {author: Space Telescope Science Institute, homepage: 'http://github.com/spacetelescope/pyasdf',\n",
      "  name: asdf, version: 1.1.0.dev715}\n",
      "model: !transform/compose-1.0.0\n",
      "  forward:\n",
      "  - !transform/remap_axes-1.0.0\n",
      "    mapping: [0, 1, 0, 1]\n",
      "    name: map_poly_inputs\n",
      "  - !transform/concatenate-1.0.0\n",
      "    forward:\n",
      "    - !transform/polynomial-1.0.0\n",
      "      coefficients: !core/ndarray-1.0.0\n",
      "        data:\n",
      "        - [0.1, 0.2]\n",
      "        - [0.3, 0.0]\n",
      "        datatype: float64\n",
      "        shape: [2, 2]\n",
      "      name: poly_x\n",
      "    - !transform/polynomial-1.0.0\n",
      "      coefficients: !core/ndarray-1.0.0\n",
      "        data:\n",
      "        - [0.4, 0.5]\n",
      "        - [0.6, 0.0]\n",
      "        datatype: float64\n",
      "        shape: [2, 2]\n",
      "      name: poly_y\n",
      "...\n"
     ]
    }
   ],
   "source": [
    "f = AsdfFile()\n",
    "f.tree['model'] = distortion\n",
    "f.write_to('distortion.asdf', all_array_storage='inline')\n",
    "!less distortion.asdf"
   ]
  },
  {
   "cell_type": "markdown",
   "metadata": {},
   "source": [
    "- **Arithmetic operations** with models. The same inputs are passed to all models."
   ]
  },
  {
   "cell_type": "code",
   "execution_count": 118,
   "metadata": {
    "collapsed": false
   },
   "outputs": [
    {
     "name": "stdout",
     "output_type": "stream",
     "text": [
      "2\n"
     ]
    }
   ],
   "source": [
    "model = poly_x + poly_y\n",
    "print(model.n_inputs)"
   ]
  },
  {
   "cell_type": "code",
   "execution_count": 119,
   "metadata": {
    "collapsed": false
   },
   "outputs": [
    {
     "name": "stdout",
     "output_type": "stream",
     "text": [
      "2.8\n",
      "2.8\n"
     ]
    }
   ],
   "source": [
    "print(model(1, 2))\n",
    "print(poly_x(1, 2) + poly_y(1, 2))"
   ]
  },
  {
   "cell_type": "markdown",
   "metadata": {},
   "source": [
    "If a model has an analytical innverse, it is already defined. It can be accesses through the `inverse` property."
   ]
  },
  {
   "cell_type": "code",
   "execution_count": 120,
   "metadata": {
    "collapsed": false
   },
   "outputs": [
    {
     "name": "stdout",
     "output_type": "stream",
     "text": [
      "Model: Shift\n",
      "Inputs: (u'x',)\n",
      "Outputs: (u'x',)\n",
      "Model set size: 1\n",
      "Parameters:\n",
      "     offset\n",
      "    -------\n",
      "    -2048.0\n"
     ]
    }
   ],
   "source": [
    "print(offset)"
   ]
  },
  {
   "cell_type": "code",
   "execution_count": 121,
   "metadata": {
    "collapsed": false
   },
   "outputs": [
    {
     "name": "stdout",
     "output_type": "stream",
     "text": [
      "Model: Shift\n",
      "Inputs: (u'x',)\n",
      "Outputs: (u'x',)\n",
      "Model set size: 1\n",
      "Parameters:\n",
      "    offset\n",
      "    ------\n",
      "    2048.0\n"
     ]
    }
   ],
   "source": [
    "print(offset.inverse)"
   ]
  },
  {
   "cell_type": "markdown",
   "metadata": {},
   "source": [
    "An inverse can be assigned or rest by assigning to the `inverse` property."
   ]
  },
  {
   "cell_type": "code",
   "execution_count": 122,
   "metadata": {
    "collapsed": false
   },
   "outputs": [
    {
     "ename": "NotImplementedError",
     "evalue": "An analytical inverse transform has not been implemented for this model.",
     "output_type": "error",
     "traceback": [
      "\u001b[1;31m---------------------------------------------------------------------------\u001b[0m",
      "\u001b[1;31mNotImplementedError\u001b[0m                       Traceback (most recent call last)",
      "\u001b[1;32m<ipython-input-122-cb863e10bdc5>\u001b[0m in \u001b[0;36m<module>\u001b[1;34m()\u001b[0m\n\u001b[1;32m----> 1\u001b[1;33m \u001b[0mpoly1\u001b[0m\u001b[1;33m.\u001b[0m\u001b[0minverse\u001b[0m\u001b[1;33m\u001b[0m\u001b[0m\n\u001b[0m",
      "\u001b[1;32mC:\\Anaconda2\\lib\\site-packages\\astropy\\modeling\\core.pyc\u001b[0m in \u001b[0;36minverse\u001b[1;34m(self)\u001b[0m\n\u001b[0;32m    889\u001b[0m             \u001b[1;32mreturn\u001b[0m \u001b[0mself\u001b[0m\u001b[1;33m.\u001b[0m\u001b[0m_inverse\u001b[0m\u001b[1;33m(\u001b[0m\u001b[1;33m)\u001b[0m\u001b[1;33m\u001b[0m\u001b[0m\n\u001b[0;32m    890\u001b[0m \u001b[1;33m\u001b[0m\u001b[0m\n\u001b[1;32m--> 891\u001b[1;33m         raise NotImplementedError(\"An analytical inverse transform has not \"\n\u001b[0m\u001b[0;32m    892\u001b[0m                                   \"been implemented for this model.\")\n\u001b[0;32m    893\u001b[0m \u001b[1;33m\u001b[0m\u001b[0m\n",
      "\u001b[1;31mNotImplementedError\u001b[0m: An analytical inverse transform has not been implemented for this model."
     ]
    }
   ],
   "source": [
    "poly1.inverse"
   ]
  },
  {
   "cell_type": "code",
   "execution_count": 123,
   "metadata": {
    "collapsed": false
   },
   "outputs": [
    {
     "name": "stdout",
     "output_type": "stream",
     "text": [
      "Model: Polynomial1D\n",
      "Inputs: (u'x',)\n",
      "Outputs: (u'y',)\n",
      "Model set size: 1\n",
      "Degree: 1\n",
      "Parameters:\n",
      "     c0   c1\n",
      "    ---- ---\n",
      "    10.0 1.0\n"
     ]
    }
   ],
   "source": [
    "poly1.inverse = models.Polynomial1D(degree=1, c0=10, c1=1)\n",
    "print(poly1.inverse)"
   ]
  },
  {
   "cell_type": "markdown",
   "metadata": {},
   "source": [
    "The inverse property can be used with combined models as well. Tking the `distortion` model above as an example:"
   ]
  },
  {
   "cell_type": "code",
   "execution_count": 124,
   "metadata": {
    "collapsed": false
   },
   "outputs": [
    {
     "name": "stdout",
     "output_type": "stream",
     "text": [
      "Model: CompoundModel71\n",
      "Inputs: ('x0', 'x1')\n",
      "Outputs: (u'z0', u'z1')\n",
      "Model set size: 1\n",
      "Parameters:\n",
      "    c0_0_1 c1_0_1 c0_1_1 c0_0_2 c1_0_2 c0_1_2\n",
      "    ------ ------ ------ ------ ------ ------\n",
      "       0.1    0.3    0.2    0.4    0.6    0.5\n"
     ]
    }
   ],
   "source": [
    "print(distortion)"
   ]
  },
  {
   "cell_type": "code",
   "execution_count": 125,
   "metadata": {
    "collapsed": false
   },
   "outputs": [
    {
     "name": "stdout",
     "output_type": "stream",
     "text": [
      "('map_poly_inputs', 'poly_x', 'poly_y')\n",
      "2\n",
      "2\n"
     ]
    }
   ],
   "source": [
    "print(distortion.submodel_names)\n",
    "print(distortion.n_outputs)\n",
    "print(distortion.n_inputs)"
   ]
  },
  {
   "cell_type": "code",
   "execution_count": 126,
   "metadata": {
    "collapsed": false
   },
   "outputs": [
    {
     "ename": "NotImplementedError",
     "evalue": "All models in a composite model must have an inverse defined in order for the composite model to have an inverse.  <Polynomial2D(1, c0_0=0.1, c1_0=0.3, c0_1=0.2, name='poly_x')> does not have an inverse.",
     "output_type": "error",
     "traceback": [
      "\u001b[1;31m---------------------------------------------------------------------------\u001b[0m",
      "\u001b[1;31mNotImplementedError\u001b[0m                       Traceback (most recent call last)",
      "\u001b[1;32m<ipython-input-126-c49747bb2c21>\u001b[0m in \u001b[0;36m<module>\u001b[1;34m()\u001b[0m\n\u001b[1;32m----> 1\u001b[1;33m \u001b[1;32mprint\u001b[0m\u001b[1;33m(\u001b[0m\u001b[0mdistortion\u001b[0m\u001b[1;33m.\u001b[0m\u001b[0minverse\u001b[0m\u001b[1;33m)\u001b[0m\u001b[1;33m\u001b[0m\u001b[0m\n\u001b[0m",
      "\u001b[1;32mC:\\Anaconda2\\lib\\site-packages\\astropy\\modeling\\core.pyc\u001b[0m in \u001b[0;36minverse\u001b[1;34m(self)\u001b[0m\n\u001b[0;32m    887\u001b[0m             \u001b[1;32mreturn\u001b[0m \u001b[0mself\u001b[0m\u001b[1;33m.\u001b[0m\u001b[0m_user_inverse\u001b[0m\u001b[1;33m\u001b[0m\u001b[0m\n\u001b[0;32m    888\u001b[0m         \u001b[1;32melif\u001b[0m \u001b[0mself\u001b[0m\u001b[1;33m.\u001b[0m\u001b[0m_inverse\u001b[0m \u001b[1;32mis\u001b[0m \u001b[1;32mnot\u001b[0m \u001b[0mNone\u001b[0m\u001b[1;33m:\u001b[0m\u001b[1;33m\u001b[0m\u001b[0m\n\u001b[1;32m--> 889\u001b[1;33m             \u001b[1;32mreturn\u001b[0m \u001b[0mself\u001b[0m\u001b[1;33m.\u001b[0m\u001b[0m_inverse\u001b[0m\u001b[1;33m(\u001b[0m\u001b[1;33m)\u001b[0m\u001b[1;33m\u001b[0m\u001b[0m\n\u001b[0m\u001b[0;32m    890\u001b[0m \u001b[1;33m\u001b[0m\u001b[0m\n\u001b[0;32m    891\u001b[0m         raise NotImplementedError(\"An analytical inverse transform has not \"\n",
      "\u001b[1;32mC:\\Anaconda2\\lib\\site-packages\\astropy\\modeling\\core.pyc\u001b[0m in \u001b[0;36minverse\u001b[1;34m(self)\u001b[0m\n\u001b[0;32m   2524\u001b[0m \u001b[1;33m\u001b[0m\u001b[0m\n\u001b[0;32m   2525\u001b[0m \u001b[1;33m\u001b[0m\u001b[0m\n\u001b[1;32m-> 2526\u001b[1;33m         \u001b[1;32mreturn\u001b[0m \u001b[0mself\u001b[0m\u001b[1;33m.\u001b[0m\u001b[0m_tree\u001b[0m\u001b[1;33m.\u001b[0m\u001b[0mevaluate\u001b[0m\u001b[1;33m(\u001b[0m\u001b[0moperators\u001b[0m\u001b[1;33m,\u001b[0m \u001b[0mgetter\u001b[0m\u001b[1;33m=\u001b[0m\u001b[0mgetter\u001b[0m\u001b[1;33m)\u001b[0m\u001b[1;33m\u001b[0m\u001b[0m\n\u001b[0m\u001b[0;32m   2527\u001b[0m \u001b[1;33m\u001b[0m\u001b[0m\n\u001b[0;32m   2528\u001b[0m     \u001b[1;33m@\u001b[0m\u001b[0msharedmethod\u001b[0m\u001b[1;33m\u001b[0m\u001b[0m\n",
      "\u001b[1;32mC:\\Anaconda2\\lib\\site-packages\\astropy\\modeling\\utils.pyc\u001b[0m in \u001b[0;36mevaluate\u001b[1;34m(self, operators, getter, start, stop)\u001b[0m\n\u001b[0;32m    123\u001b[0m                 \u001b[1;31m# Also push the index of this leaf onto the stack, which will\u001b[0m\u001b[1;33m\u001b[0m\u001b[1;33m\u001b[0m\u001b[0m\n\u001b[0;32m    124\u001b[0m                 \u001b[1;31m# prove useful for evaluating subexpressions\u001b[0m\u001b[1;33m\u001b[0m\u001b[1;33m\u001b[0m\u001b[0m\n\u001b[1;32m--> 125\u001b[1;33m                 \u001b[0mstack\u001b[0m\u001b[1;33m.\u001b[0m\u001b[0mappend\u001b[0m\u001b[1;33m(\u001b[0m\u001b[1;33m(\u001b[0m\u001b[0mgetter\u001b[0m\u001b[1;33m(\u001b[0m\u001b[0mleaf_idx\u001b[0m\u001b[1;33m,\u001b[0m \u001b[0mnode\u001b[0m\u001b[1;33m.\u001b[0m\u001b[0mvalue\u001b[0m\u001b[1;33m)\u001b[0m\u001b[1;33m,\u001b[0m \u001b[0mleaf_idx\u001b[0m\u001b[1;33m)\u001b[0m\u001b[1;33m)\u001b[0m\u001b[1;33m\u001b[0m\u001b[0m\n\u001b[0m\u001b[0;32m    126\u001b[0m                 \u001b[0mleaf_idx\u001b[0m \u001b[1;33m+=\u001b[0m \u001b[1;36m1\u001b[0m\u001b[1;33m\u001b[0m\u001b[0m\n\u001b[0;32m    127\u001b[0m             \u001b[1;32melse\u001b[0m\u001b[1;33m:\u001b[0m\u001b[1;33m\u001b[0m\u001b[0m\n",
      "\u001b[1;32mC:\\Anaconda2\\lib\\site-packages\\astropy\\modeling\\core.pyc\u001b[0m in \u001b[0;36mgetter\u001b[1;34m(idx, model)\u001b[0m\n\u001b[0;32m   2521\u001b[0m                     \u001b[1;34m\"All models in a composite model must have an inverse \"\u001b[0m\u001b[1;33m\u001b[0m\u001b[0m\n\u001b[0;32m   2522\u001b[0m                     \u001b[1;34m\"defined in order for the composite model to have an \"\u001b[0m\u001b[1;33m\u001b[0m\u001b[0m\n\u001b[1;32m-> 2523\u001b[1;33m                     \"inverse.  {0!r} does not have an inverse.\".format(model))\n\u001b[0m\u001b[0;32m   2524\u001b[0m \u001b[1;33m\u001b[0m\u001b[0m\n\u001b[0;32m   2525\u001b[0m \u001b[1;33m\u001b[0m\u001b[0m\n",
      "\u001b[1;31mNotImplementedError\u001b[0m: All models in a composite model must have an inverse defined in order for the composite model to have an inverse.  <Polynomial2D(1, c0_0=0.1, c1_0=0.3, c0_1=0.2, name='poly_x')> does not have an inverse."
     ]
    }
   ],
   "source": [
    "print(distortion.inverse)"
   ]
  },
  {
   "cell_type": "code",
   "execution_count": 127,
   "metadata": {
    "collapsed": false
   },
   "outputs": [
    {
     "name": "stdout",
     "output_type": "stream",
     "text": [
      "Model: CompoundModel74\n",
      "Inputs: ('x0', 'x1')\n",
      "Outputs: (u'z0', u'z1')\n",
      "Model set size: 1\n",
      "Parameters:\n",
      "    c0_0_1 c1_0_1 c0_1_1 c0_0_2 c1_0_2 c0_1_2\n",
      "    ------ ------ ------ ------ ------ ------\n",
      "       0.4    0.6    0.5    0.1    0.3    0.2\n"
     ]
    }
   ],
   "source": [
    "dist_inverse = map_inputs | poly_y & poly_x\n",
    "distortion.inverse = dist_inverse\n",
    "print(distortion.inverse)"
   ]
  },
  {
   "cell_type": "markdown",
   "metadata": {},
   "source": [
    "### JWST Reference Files"
   ]
  },
  {
   "cell_type": "markdown",
   "metadata": {},
   "source": [
    "#### List of reference types used by assign_wcs"
   ]
  },
  {
   "cell_type": "markdown",
   "metadata": {},
   "source": [
    "| reftype             |                        description                | Instrument\n",
    "|---------------------|---------------------------------------------------|-----------\n",
    "| **camera**          | NIRSPEC Camera model                              | Nirspec\n",
    "| **collimator**      | NIRSPEC Collimator Model                          | Nirspec\n",
    "| **disperser**       | Disperser parameters                              | Nirspec\n",
    "| **distortion**      | Spatial distortion model                          | MIRI, Nircam\n",
    "| **filteroffset**    | MIRI Imager fiter offsets                         | Nirspec\n",
    "| **fore**            | Transform through the NIRSPEC FORE optics         | Nirspec\n",
    "| **fpa**             | Transform in the NIRSPEC FPA plane                | Nirspec\n",
    "| **msa**             | Transform in the NIRSPEC MSA plane                | Nirspec\n",
    "| **ote**             | Transform through the Optical Telescope Element   | Nirspec\n",
    "| **specwcs**         | Wavelength calibration models                     | MIRI LRS, MRS\n",
    "| **regions**         | Stores location of the regions on the detector    | MIRI MRS\n",
    "| **v2v3**            | Transform from MIRI focal plane to V2V3 plane     | MIRI MRS\n",
    "| **wavelengthrange** | Typical wavelength ranges                         | MIRI, Nirspec"
   ]
  },
  {
   "cell_type": "markdown",
   "metadata": {},
   "source": [
    "More information about the reference files in Build 5, including the CRDS rules is here:\n",
    "\n",
    "http://ssb.stsci.edu/doc/jwst_dev/jwst_pipeline.assign_wcs.doc/html/reference_files.html"
   ]
  },
  {
   "cell_type": "markdown",
   "metadata": {},
   "source": [
    "#### Conventions used in the JWST Pipeline"
   ]
  },
  {
   "cell_type": "markdown",
   "metadata": {},
   "source": [
    "- Forward transform is from detector to world coordinates.\n",
    "- The transforms in the pipeline are 0-based.\n",
    "- The center of the pixel is an integer index, i.e. pixel 1 is from 0.5 to 1.5."
   ]
  },
  {
   "cell_type": "markdown",
   "metadata": {},
   "source": [
    "Scripts used for creating Build 5 reference files are in \n",
    "\n",
    "https://aeon.stsci.edu/ssb/trac/jwst/browser/trunk/jwst_pipeline/assign_wcs/jwst_pipeline/assign_wcs/tools"
   ]
  },
  {
   "cell_type": "markdown",
   "metadata": {
    "collapsed": true
   },
   "source": [
    "#### An example Nirspec camera reference file."
   ]
  },
  {
   "cell_type": "code",
   "execution_count": 129,
   "metadata": {
    "collapsed": false
   },
   "outputs": [],
   "source": [
    "#!less Camera.pcf\n"
   ]
  },
  {
   "cell_type": "code",
   "execution_count": null,
   "metadata": {
    "collapsed": true
   },
   "outputs": [],
   "source": [
    "def coeffs_from_pcf(degree, coeffslist):\n",
    "    coeffs = {}\n",
    "    k = 0\n",
    "    for i in range(degree + 1):\n",
    "        for j in range(degree + 1):\n",
    "            if i+j < degree+1:\n",
    "                name = \"c{0}_{1}\".format(i, j)\n",
    "                coeffs[name] =  float(coeffslist[k])\n",
    "                k +=1\n",
    "            else:\n",
    "                continue\n",
    "    return coeffs"
   ]
  },
  {
   "cell_type": "code",
   "execution_count": null,
   "metadata": {
    "collapsed": false
   },
   "outputs": [],
   "source": [
    " with open('Camera.pcf') as f:\n",
    "        lines = [l.strip() for l in f.readlines()]\n",
    "\n",
    "# Note that all Nirspec transforms are defined from sky to detector.\n",
    "# Their inverse will be the forward transform in the pipeline.\n",
    "factors = lines[lines.index('*Factor 2') + 1].split()\n",
    "scale = models.Scale(1 / float(factors[0]), name=\"x_scale\") & \\\n",
    "        models.Scale(1 / float(factors[1]), name=\"y_scale\")\n",
    "\n",
    "rotation_angle = lines[lines.index('*Rotation') + 1]\n",
    "# Backward rotation is in the counter-clockwise direction as in modeling\n",
    "# Forward is clockwise\n",
    "backward_rotation = models.Rotation2D(float(rotation_angle), name='rotation')\n",
    "rotation = backward_rotation.copy()\n",
    "\n",
    "# Here the model is called \"output_shift\" but in the team version it is the \"input_shift\".\n",
    "input_rot_center = lines[lines.index('*InputRotationCentre 2') + 1].split()\n",
    "output_offset = models.Shift(float(input_rot_center[0]), name='output_x_shift') & \\\n",
    "             models.Shift(float(input_rot_center[1]), name='output_y_shift')\n",
    "\n",
    "# Here the model is called \"input_shift\" but in the team version it is the \"output_shift\".\n",
    "output_rot_center = lines[lines.index('*OutputRotationCentre 2') + 1].split()\n",
    "input_offset = models.Shift(-float(output_rot_center[0]), name='input_x_shift') & \\\n",
    "              models.Shift(-float(output_rot_center[1]), name='input_y_shift')\n",
    "\n",
    "degree = int(lines[lines.index('*FitOrder') + 1])\n",
    "\n",
    "xcoeff_index = lines.index('*xForwardCoefficients 21 2')\n",
    "xlines = lines[xcoeff_index + 1: xcoeff_index + 22]\n",
    "xcoeff_forward = coeffs_from_pcf(degree, xlines)\n",
    "x_poly_backward = models.Polynomial2D(degree, name='x_poly_backward', **xcoeff_forward)\n",
    "\n",
    "ycoeff_index = lines.index('*yForwardCoefficients 21 2')\n",
    "ycoeff_forward = coeffs_from_pcf(degree, lines[ycoeff_index + 1: ycoeff_index + 22])\n",
    "y_poly_backward = models.Polynomial2D(degree, name='y_poly_backward', **ycoeff_forward)\n",
    "\n",
    "xcoeff_index = lines.index('*xBackwardCoefficients 21 2')\n",
    "xcoeff_backward = coeffs_from_pcf(degree, lines[xcoeff_index + 1: xcoeff_index + 22])\n",
    "x_poly_forward = models.Polynomial2D(degree, name='x_poly_forward', **xcoeff_backward)\n",
    "\n",
    "ycoeff_index = lines.index('*yBackwardCoefficients 21 2')\n",
    "ycoeff_backward = coeffs_from_pcf(degree, lines[ycoeff_index + 1: ycoeff_index + 22])\n",
    "y_poly_forward = models.Polynomial2D(degree, name='y_poly_forward', **ycoeff_backward)\n",
    "\n",
    "x_poly_forward.inverse = x_poly_backward\n",
    "y_poly_forward.inverse = y_poly_backward\n",
    "\n",
    "output2poly_mapping = models.Identity(2, name='output_mapping')\n",
    "output2poly_mapping.inverse = models.Mapping([0, 1, 0, 1])\n",
    "input2poly_mapping = models.Mapping([0, 1, 0, 1], name='input_mapping')\n",
    "input2poly_mapping.inverse = models.Identity(2)\n",
    "\n",
    "model_poly = input2poly_mapping | (x_poly_forward & y_poly_forward) | output2poly_mapping\n",
    "\n",
    "model = model_poly | input_offset |scale |rotation |output_offset\n",
    "\n",
    "f = AsdfFile()\n",
    "#f.tree = ref_file_kw.copy()\n",
    "f.tree['model'] = model\n",
    "f.write_to('camera.asdf')"
   ]
  },
  {
   "cell_type": "code",
   "execution_count": null,
   "metadata": {
    "collapsed": false
   },
   "outputs": [],
   "source": [
    "#!less camera.asdf"
   ]
  },
  {
   "cell_type": "markdown",
   "metadata": {},
   "source": [
    "#### Where should we keep the scripts?\n",
    "\n",
    "- a repository in github\n",
    "\n",
    "  https://github.com/spacetelescope\n",
    "  \n",
    "  \n",
    "- SVN"
   ]
  },
  {
   "cell_type": "code",
   "execution_count": null,
   "metadata": {
    "collapsed": true
   },
   "outputs": [],
   "source": []
  }
 ],
 "metadata": {
  "anaconda-cloud": {},
  "kernelspec": {
   "display_name": "Python (jwstdev)",
   "language": "python",
   "name": "jwstdev"
  },
  "language_info": {
   "codemirror_mode": {
    "name": "ipython",
    "version": 3
   },
   "file_extension": ".py",
   "mimetype": "text/x-python",
   "name": "python",
   "nbconvert_exporter": "python",
   "pygments_lexer": "ipython3",
   "version": "3.5.1"
  }
 },
 "nbformat": 4,
 "nbformat_minor": 0
}
